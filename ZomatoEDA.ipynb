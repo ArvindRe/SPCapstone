{
 "cells": [
  {
   "cell_type": "code",
   "execution_count": 151,
   "metadata": {
    "id": "SN_fF-nDR745"
   },
   "outputs": [
    {
     "name": "stderr",
     "output_type": "stream",
     "text": [
      "C:\\ProgramData\\Anaconda3\\lib\\site-packages\\ipykernel_launcher.py:15: FutureWarning: Passing a negative integer is deprecated in version 1.0 and will not be supported in future version. Instead, use None to not limit the column width.\n",
      "  from ipykernel import kernelapp as app\n"
     ]
    }
   ],
   "source": [
    "import matplotlib.pyplot as plt\n",
    "plt.style.use('ggplot')\n",
    "from tqdm import tqdm\n",
    "import re\n",
    "import numpy as np \n",
    "import pandas as pd\n",
    "import os\n",
    "import seaborn as sns\n",
    "from scipy import stats\n",
    "\n",
    "#To display complete contents of a dataframe without any kind of truncation, we need to set these 4 options:\n",
    "pd.set_option('display.max_rows', None)\n",
    "pd.set_option('display.max_columns', None)\n",
    "pd.set_option('display.width', None)\n",
    "pd.set_option('display.max_colwidth', -1)"
   ]
  },
  {
   "cell_type": "code",
   "execution_count": 152,
   "metadata": {
    "colab": {
     "base_uri": "https://localhost:8080/",
     "height": 35
    },
    "id": "xXAiYuY1R74-",
    "outputId": "072b7f97-6741-4fbe-9112-4b7f136ed980"
   },
   "outputs": [
    {
     "name": "stdout",
     "output_type": "stream",
     "text": [
      "                                                                                                                                                                                                                                        url  \\\n",
      "0  https://www.zomato.com/bangalore/jalsa-banashankari?context=eyJzZSI6eyJlIjpbNTg2OTQsIjE4Mzc1NDc0IiwiNTkwOTAiLCIxODM4Mjk0NCIsIjE4MjI0Njc2IiwiNTkyODkiLCIxODM3MzM4NiJdLCJ0IjoiUmVzdGF1cmFudHMgaW4gQmFuYXNoYW5rYXJpIHNlcnZpbmcgQnVmZmV0In19   \n",
      "\n",
      "                                                   address   name  \\\n",
      "0  942, 21st Main Road, 2nd Stage, Banashankari, Bangalore  Jalsa   \n",
      "\n",
      "  online_order book_table   rate  votes                           phone  \\\n",
      "0  Yes          Yes        4.1/5  775    080 42297555\\r\\n+91 9743772233   \n",
      "\n",
      "       location      rest_type  \\\n",
      "0  Banashankari  Casual Dining   \n",
      "\n",
      "                                                                                       dish_liked  \\\n",
      "0  Pasta, Lunch Buffet, Masala Papad, Paneer Lajawab, Tomato Shorba, Dum Biryani, Sweet Corn Soup   \n",
      "\n",
      "                         cuisines approx_cost(for two people)  \\\n",
      "0  North Indian, Mughlai, Chinese  800                          \n",
      "\n",
      "                                                                                                                                                                                                                                                                                                                                                                                                                                                                                                                                                                                                                                                                                                                                                                                                                                                                                                                                                                                                                                                                                                                                                                                                                                                                                                                                                                                                                                                                                                                                                                                                                                                                                                                                                                                                                                                                                                                                                                                                                                                                                                                                                                                                                                                                                                                                                                                                                                                                                                                                                                                                                                                                                                                                                                                                                                                                                                                                                                                                                                                                                                                                                                                                                                                                                                                                                                                                                                                                                                                                                                                                                                                                                                                                                                                                                                                                                                                                                                                                                                                                                                          reviews_list  \\\n",
      "0  [('Rated 4.0', 'RATED\\n  A beautiful place to dine in.The interiors take you back to the Mughal era. The lightings are just perfect.We went there on the occasion of Christmas and so they had only limited items available. But the taste and service was not compromised at all.The only complaint is that the breads could have been better.Would surely like to come here again.'), ('Rated 4.0', 'RATED\\n  I was here for dinner with my family on a weekday. The restaurant was completely empty. Ambience is good with some good old hindi music. Seating arrangement are good too. We ordered masala papad, panner and baby corn starters, lemon and corrionder soup, butter roti, olive and chilli paratha. Food was fresh and good, service is good too. Good for family hangout.\\nCheers'), ('Rated 2.0', 'RATED\\n  Its a restaurant near to Banashankari BDA. Me along with few of my office friends visited to have buffet but unfortunately they only provide veg buffet. On inquiring they said this place is mostly visited by vegetarians. Anyways we ordered ala carte items which took ages to come. Food was ok ok. Definitely not visiting anymore.'), ('Rated 4.0', 'RATED\\n  We went here on a weekend and one of us had the buffet while two of us took Ala Carte. Firstly the ambience and service of this place is great! The buffet had a lot of items and the good was good. We had a Pumpkin Halwa intm the dessert which was amazing. Must try! The kulchas are great here. Cheers!'), ('Rated 5.0', 'RATED\\n  The best thing about the place is itÃ\\x83Ã\\x83Ã\\x82Ã\\x82Ã\\x83Ã\\x82Ã\\x82Ã\\x92s ambiance. Second best thing was yummy ? food. We try buffet and buffet food was not disappointed us.\\nTest ?. ?? ?? ?? ?? ??\\nQuality ?. ??????????.\\nService: Staff was very professional and friendly.\\n\\nOverall experience was excellent.\\n\\nsubirmajumder85.wixsite.com'), ('Rated 5.0', 'RATED\\n  Great food and pleasant ambience. Expensive but Coll place to chill and relax......\\n\\nService is really very very good and friendly staff...\\n\\nFood : 5/5\\nService : 5/5\\nAmbience :5/5\\nOverall :5/5'), ('Rated 4.0', 'RATED\\n  Good ambience with tasty food.\\nCheese chilli paratha with Bhutta palak methi curry is a good combo.\\nLemon Chicken in the starters is a must try item.\\nEgg fried rice was also quite tasty.\\nIn the mocktails, recommend \"Alice in Junoon\". Do not miss it.'), ('Rated 4.0', 'RATED\\n  You canÃ\\x83Ã\\x83Ã\\x82Ã\\x82Ã\\x83Ã\\x82Ã\\x82Ã\\x92t go wrong with Jalsa. Never been a fan of their buffet and thus always order alacarteÃ\\x83Ã\\x83Ã\\x82Ã\\x82Ã\\x83Ã\\x82Ã\\x82Ã\\x92. Service at times can be on the slower side but food is worth the wait.'), ('Rated 5.0', 'RATED\\n  Overdelighted by the service and food provided at this place. A royal and ethnic atmosphere builds a strong essence of being in India and also the quality and taste of food is truly authentic. I would totally recommend to visit this place once.'), ('Rated 4.0', 'RATED\\n  The place is nice and comfortable. Food wise all jalea outlets maintain a good standard. The soya chaap was a standout dish. Clearly one of trademark dish as per me and a must try.\\n\\nThe only concern is the parking. It very congested and limited to just 5cars. The basement parking is very steep and makes it cumbersome'), ('Rated 4.0', 'RATED\\n  The place is nice and comfortable. Food wise all jalea outlets maintain a good standard. The soya chaap was a standout dish. Clearly one of trademark dish as per me and a must try.\\n\\nThe only concern is the parking. It very congested and limited to just 5cars. The basement parking is very steep and makes it cumbersome'), ('Rated 4.0', 'RATED\\n  The place is nice and comfortable. Food wise all jalea outlets maintain a good standard. The soya chaap was a standout dish. Clearly one of trademark dish as per me and a must try.\\n\\nThe only concern is the parking. It very congested and limited to just 5cars. The basement parking is very steep and makes it cumbersome')]   \n",
      "\n",
      "  menu_item listed_in(type) listed_in(city)  \n",
      "0  []        Buffet          Banashankari    \n"
     ]
    }
   ],
   "source": [
    "#Reading CSV and printing out first row:\n",
    "os.chdir(\"D:\\\\Springboard\")\n",
    "df=pd.read_csv(\"zomato.csv\")\n",
    "print(df.head(1))"
   ]
  },
  {
   "cell_type": "markdown",
   "metadata": {
    "id": "cDREpng9TX6j"
   },
   "source": [
    "**Pick the columns we'll work with:**\n",
    "\n",
    "*   Name\n",
    "*   Address\n",
    "*   Location\n",
    "*   Restaurant rating\n",
    "*   Review rating\n",
    "*   Review"
   ]
  },
  {
   "cell_type": "code",
   "execution_count": 153,
   "metadata": {
    "id": "c_ASDO_5R75F"
   },
   "outputs": [
    {
     "name": "stderr",
     "output_type": "stream",
     "text": [
      "51717it [00:23, 2221.08it/s]\n"
     ]
    },
    {
     "name": "stdout",
     "output_type": "stream",
     "text": [
      "          name  \\\n",
      "1022168  Jalsa   \n",
      "\n",
      "                                                                             address  \\\n",
      "1022168  25/7, Doddannakundi, Outer Ring Road, Mahadevapura, Marathahalli, Bangalore   \n",
      "\n",
      "             location restaurant_rating  review_rating  \\\n",
      "1022168  Marathahalli  4.2 /5            5.0             \n",
      "\n",
      "                                                                                                                                                                                                                                                                                                                                                                                                                                                                                                                                                      review  \n",
      "1022168  Nice place for lunch ÃÃÃÃÃÃÃÃÂ°ÃÃÃÃÃÃÃÃÃÃÃÃÃÃÃÃÃÃÃÃÃÃÃÃÂ´ with office team. The ambiance was really good. ItÃÃÃÃÃÃÃÃÂ¢ÃÃÃÃÃÃÃÃÃÃÃÃÃÃÃÃs a well balanced combination of royals ÃÃÃÃÃÃÃÃÂ°ÃÃÃÃÃÃÃÃÃÃÃÃÃÃÃÃÃÃÃÃÃÃÃÃ and feeling like we dine in our own kingdom.\\n\\nFood was good.\\nService was pretty nice. Overall experience was good.\\n\\n\\nsubirmajumder85.wixsite.com  \n"
     ]
    }
   ],
   "source": [
    "#Extract reviews and ratings into a DF, and list a review against Jalsa :\n",
    "all_ratings = []\n",
    "for name,address,location,rate,ratings in tqdm(zip(df['name'],df['address'],df['location'],df['rate'],df['reviews_list'])):\n",
    "    ratings = eval(ratings)\n",
    "    for score, doc in (ratings):\n",
    "        if score:\n",
    "            score = score.strip(\"Rated\")#.strip()\n",
    "            doc = doc.strip('RATED').strip()\n",
    "            score = float(score)\n",
    "            all_ratings.append([name,address,location,rate,score, doc])\n",
    "rating_df=pd.DataFrame(all_ratings,columns=['name','address','location','restaurant_rating','review_rating','review'])\n",
    "print(rating_df[rating_df['name']=='Jalsa'].tail(1))"
   ]
  },
  {
   "cell_type": "markdown",
   "metadata": {
    "id": "sLYg3yJSUqv_"
   },
   "source": [
    "Taking a closer look at the last review, we notice junk characters. Now, we remove anything that is not a letter or a number:"
   ]
  },
  {
   "cell_type": "code",
   "execution_count": 154,
   "metadata": {
    "id": "YECYLcKZR75M"
   },
   "outputs": [
    {
     "name": "stdout",
     "output_type": "stream",
     "text": [
      "Nice place for lunch  with office team The ambiance was really good Its a well balanced combination of royals  and feeling like we dine in our own kingdom\n",
      "\n",
      "Food was good\n",
      "Service was pretty nice Overall experience was good\n",
      "\n",
      "\n",
      "subirmajumder85wixsitecom\n"
     ]
    }
   ],
   "source": [
    "rating_df['review']=rating_df['review'].apply(lambda x : re.sub('[^a-zA-Z0-9\\s]',\"\",x))   \n",
    "#regex = r'\\W+(?!\\S*[a-z])|(?<!\\S)\\W+'\n",
    "#rating_df['review']=rating_df['review'].apply(lambda x : re.sub(regex, '', x, 0, re.IGNORECASE))   \n",
    "#fix to retain punctuation and @, remove \\n\n",
    "print(rating_df.loc[1022168]['review'])  #retains dots and special characters?"
   ]
  },
  {
   "cell_type": "code",
   "execution_count": 155,
   "metadata": {},
   "outputs": [],
   "source": [
    "#Checking for uniqueness of restaurant entries in the dataset:"
   ]
  },
  {
   "cell_type": "code",
   "execution_count": 156,
   "metadata": {
    "id": "Jz9e9JctR75P",
    "scrolled": true
   },
   "outputs": [
    {
     "name": "stdout",
     "output_type": "stream",
     "text": [
      "[      0       1       2       3       4       5       6       7       8\n",
      "       9      10      11    9027    9028    9029    9030    9031    9032\n",
      "    9033    9034    9035    9036    9037   10866   10867   10868   10869\n",
      "   10870   10871   10872   10873   10874   10875   10876   46108   46109\n",
      "   46110   46111   46112   46113   46114   46115   46116   46117   55999\n",
      "   56000   56001   56002   56003   56004   56005   56006   56007   56008\n",
      "   62938   62939   62940   62941   62942   62943   62944   62945   62946\n",
      "   62947  157372  157373  157374  157375  157376  157377  157378  157379\n",
      "  157380  157381  157382  157383  157384  157385  157386  157387  157388\n",
      "  157389  157390  157391  157392  157393  157394  157395  157396  157397\n",
      "  157398  157399  157400  157401  157402  157403  157404  157405  157406\n",
      "  157407  157408  157409  157410  157411  157412  157413  157414  157415\n",
      "  157416  157417  157418  157419  157420  427965  427966  427967  427968\n",
      "  427969  427970  427971  427972  457500  457501  457502  457503  457504\n",
      "  457505  457506  457507  471991  471992  471993  471994  471995  471996\n",
      "  471997  471998  471999 1022104 1022105 1022106 1022107 1022108 1022109\n",
      " 1022110 1022111 1022112 1022113 1022114 1022115 1022116 1022117 1022118\n",
      " 1022119 1022120 1022121 1022122 1022123 1022124 1022125 1022126 1022127\n",
      " 1022128 1022129 1022130 1022131 1022132 1022133 1022134 1022135 1022136\n",
      " 1022137 1022138 1022139 1022140 1022141 1022142 1022143 1022144 1022145\n",
      " 1022146 1022147 1022148 1022149 1022150 1022151 1022152 1022153 1022154\n",
      " 1022155 1022156 1022157 1022158 1022159 1022160 1022161 1022162 1022163\n",
      " 1022164 1022165 1022166 1022167 1022168]\n"
     ]
    }
   ],
   "source": [
    "print(rating_df[rating_df['name']=='Jalsa'].index.values)"
   ]
  },
  {
   "cell_type": "markdown",
   "metadata": {
    "id": "3gGBxzWpR75U"
   },
   "source": [
    "The index numbers above range from 0-11 and then abruptly jumps to 9027. This indicates that there are multiple entries in the dataset for 'Jalsa', which in our case could map to different chains of the restaurant across multiple locations."
   ]
  },
  {
   "cell_type": "code",
   "execution_count": 157,
   "metadata": {
    "id": "JEQIpRryR75V"
   },
   "outputs": [
    {
     "name": "stdout",
     "output_type": "stream",
     "text": [
      "Listing Jalsa restaurants :\n",
      "            location  \\\n",
      "0      Banashankari   \n",
      "456    Banashankari   \n",
      "559    Banashankari   \n",
      "2488   Banashankari   \n",
      "2966   Banashankari   \n",
      "3462   Banashankari   \n",
      "7607   Marathahalli   \n",
      "19401  Banashankari   \n",
      "20399  Banashankari   \n",
      "21302  Banashankari   \n",
      "41364  Marathahalli   \n",
      "\n",
      "                                                                           address  \n",
      "0      942, 21st Main Road, 2nd Stage, Banashankari, Bangalore                      \n",
      "456    942, 21st Main Road, 2nd Stage, Banashankari, Bangalore                      \n",
      "559    942, 21st Main Road, 2nd Stage, Banashankari, Bangalore                      \n",
      "2488   942, 21st Main Road, 2nd Stage, Banashankari, Bangalore                      \n",
      "2966   942, 21st Main Road, 2nd Stage, Banashankari, Bangalore                      \n",
      "3462   942, 21st Main Road, 2nd Stage, Banashankari, Bangalore                      \n",
      "7607   25/7, Doddannakundi, Outer Ring Road, Mahadevapura, Marathahalli, Bangalore  \n",
      "19401  942, 21st Main Road, 2nd Stage, Banashankari, Bangalore                      \n",
      "20399  942, 21st Main Road, 2nd Stage, Banashankari, Bangalore                      \n",
      "21302  942, 21st Main Road, 2nd Stage, Banashankari, Bangalore                      \n",
      "41364  25/7, Doddannakundi, Outer Ring Road, Mahadevapura, Marathahalli, Bangalore  \n",
      "\n",
      "\n",
      "\n",
      "Listing unique addresses for the restaurant per location : \n",
      " address\n",
      "25/7, Doddannakundi, Outer Ring Road, Mahadevapura, Marathahalli, Bangalore    [Marathahalli]\n",
      "942, 21st Main Road, 2nd Stage, Banashankari, Bangalore                        [Banashankari]\n",
      "Name: location, dtype: object\n"
     ]
    }
   ],
   "source": [
    "#Checking original dataset\n",
    "print(\"Listing Jalsa restaurants :\\n\",df[df['name']=='Jalsa'][['location','address']])\n",
    "\n",
    "print(\"\\n\\n\\nListing unique addresses for the restaurant per location : \\n\",df[df['name']=='Jalsa'].groupby('address')['location'].unique())"
   ]
  },
  {
   "cell_type": "markdown",
   "metadata": {
    "id": "XE6S5nr1R75X"
   },
   "source": [
    "There are 2 unique addresses with multiple entries in the dataset. But, it maps one address to one location. "
   ]
  },
  {
   "cell_type": "code",
   "execution_count": 158,
   "metadata": {
    "id": "j48Dqxa2R75Y"
   },
   "outputs": [
    {
     "name": "stdout",
     "output_type": "stream",
     "text": [
      "https://www.zomato.com/bangalore/jalsa-banashankari?context=eyJzZSI6eyJlIjpbNTg2OTQsIjE4Mzc1NDc0IiwiNTkwOTAiLCIxODM4Mjk0NCIsIjE4MjI0Njc2IiwiNTkyODkiLCIxODM3MzM4NiJdLCJ0IjoiUmVzdGF1cmFudHMgaW4gQmFuYXNoYW5rYXJpIHNlcnZpbmcgQnVmZmV0In19\n",
      "https://www.zomato.com/bangalore/jalsa-banashankari?context=eyJzZSI6eyJlIjpbIjE4ODkwOTQwIiwiMTg4ODYyNzgiLCIxODg4NzM5MCIsIjE4OTAwNDI2Iiw1ODY5NCwiNTE4MTUiLCIxODcyOTM5MiIsIjE4OTQ2MjE0IiwiMTg3MTYwNjEiLCIxODYxNDQ3NiIsIjE4NzkzMDEwIiwiMTg5MjI5MTMiLCI1NjU5MCIsIjYwMjI0IiwiMTg2MzgzMzAiLCIxODg3NDI5MiIsIjE4NjM1MTMzIiwiNTQ4MDgiLCIxODUxMTYzNSIsIjE4Njk0OTU0IiwiMTg4ODE3NjYiLCIxODQzOTY3MCIsIjU5MDkwIiwiNTk4NTAiXSwidCI6IkRlbGl2ZXJ5IFJlc3RhdXJhbnRzIGluIEJhbmFzaGFua2FyaSJ9fQ==\n"
     ]
    },
    {
     "data": {
      "text/plain": [
       "address\n",
       "942, 21st Main Road, 2nd Stage, Banashankari, Bangalore    [https://www.zomato.com/bangalore/jalsa-banashankari?context=eyJzZSI6eyJlIjpbNTg2OTQsIjE4Mzc1NDc0IiwiNTkwOTAiLCIxODM4Mjk0NCIsIjE4MjI0Njc2IiwiNTkyODkiLCIxODM3MzM4NiJdLCJ0IjoiUmVzdGF1cmFudHMgaW4gQmFuYXNoYW5rYXJpIHNlcnZpbmcgQnVmZmV0In19, https://www.zomato.com/bangalore/jalsa-banashankari?context=eyJzZSI6eyJlIjpbIjE4ODkwOTQwIiwiMTg4ODYyNzgiLCIxODg4NzM5MCIsIjE4OTAwNDI2Iiw1ODY5NCwiNTE4MTUiLCIxODcyOTM5MiIsIjE4OTQ2MjE0IiwiMTg3MTYwNjEiLCIxODYxNDQ3NiIsIjE4NzkzMDEwIiwiMTg5MjI5MTMiLCI1NjU5MCIsIjYwMjI0IiwiMTg2MzgzMzAiLCIxODg3NDI5MiIsIjE4NjM1MTMzIiwiNTQ4MDgiLCIxODUxMTYzNSIsIjE4Njk0OTU0IiwiMTg4ODE3NjYiLCIxODQzOTY3MCIsIjU5MDkwIiwiNTk4NTAiXSwidCI6IkRlbGl2ZXJ5IFJlc3RhdXJhbnRzIGluIEJhbmFzaGFua2FyaSJ9fQ==, https://www.zomato.com/bangalore/jalsa-banashankari?context=eyJzZSI6eyJlIjpbIjUyMjczIiwiNTg2NDQiLCIxODU2NTY3OSIsIjE4NjY3NTY3Iiw1ODY5NCwiNjAyMjQiLCI1MDUxNiIsIjU5NTIxIiwiMTg1OTMwNDQiLCIxODM3NTQ3NCIsIjE4MTQ4OTQxIiwiMTg0NzA3NzEiLCIxODcxNjA2MSIsIjE4NjMyOTc3IiwiMTg3NDMwMjkiLCIxODE3MzA5MiIsIjU3MzI1IiwiNTAwMDEiLCIxODIwMjk5NyIsIjE4NjUwODA4IiwiMTg5MzgwNTYiLCIxODMwNzgwNiIsIjU5MDkwIl0sInQiOiJEaW5lLU91dCBSZXN0YXVyYW50cyBpbiBCYW5hc2hhbmthcmkifX0=, https://www.zomato.com/bangalore/jalsa-banashankari?context=eyJzZSI6eyJlIjpbIjU0MzMwIiwiNTE1MjMiLCI1NTAwMCIsIjU1Mzk3Iiw1ODY5NCwiMTg4NTk1ODIiLCI1OTA5MCIsIjE4MjI0NjM3IiwiMTgxNDg5NTMiLCI1MjE0MCIsIjYwNTY5Il0sInQiOiJSZXN0YXVyYW50cyBpbiBCYXNhdmFuYWd1ZGkgc2VydmluZyBCdWZmZXQifX0=, https://www.zomato.com/bangalore/jalsa-banashankari?context=eyJzZSI6eyJlIjpbIjE4NzI3OTI0IiwiMTg0NzY0NjkiLCI1MzY3NyIsIjUwMjgzIiw1ODY5NCwiNjA5MjYiLCIxODQ4NzE4MCIsIjU2NTkwIiwiNjA1NjkiLCIxODQ4NzE4NiIsIjE4NDI0MDY2IiwiMTg1MjMzMTEiLCIxODQ4NzE3OCIsIjU5OTMzIiwiMTg2MDg2NjEiLCI2MTU0MSIsIjE4OTUyNTQyIiwiMTg0ODcxODIiLCIxODg2MTg3NSIsIjE4OTUyNTkwIiwiMTg5NTA2MjciLCIxODUzNzc1MiIsIjE4NTk1OTAyIiwiNTQyNzUiXSwidCI6IkRlbGl2ZXJ5IFJlc3RhdXJhbnRzIGluIEJhc2F2YW5hZ3VkaSJ9fQ==, https://www.zomato.com/bangalore/jalsa-banashankari?context=eyJzZSI6eyJlIjpbIjE4NTQwNjM5IiwiNjAyMjkiLCI1ODY0NCIsIjU1Mzk3Iiw1ODY5NCwiNTIwNDMiLCI1MDcxMCIsIjE4NTIxOTEyIiwiMTg0MzYyMjUiLCIxODY1ODc5NCIsIjE4ODk4MTA3IiwiMTg2Njc1NjciLCIxODc5OTM0MiIsIjE4NjQ5OTIxIiwiNTk4NTAiLCIxODM2NjY5NyIsIjYwMjI0IiwiMTg3MjA4NzciLCIxODUzMTY1MCIsIjUwNDEzIl0sInQiOiJEaW5lLU91dCBSZXN0YXVyYW50cyBpbiBCYXNhdmFuYWd1ZGkifX0=, https://www.zomato.com/bangalore/jalsa-banashankari?context=eyJzZSI6eyJlIjpbIjUyODQ4IiwiNTE1NDEiLCIxODM3NTU2NCIsIjYwNjgxIiw1ODY5NCwiMTgxOTg4NzgiLCI1MTUxNiIsIjE4ODU2MjYyIiwiNTQ3MjgiLCIxODY0MjM4NSIsIjUzNTkyIiwiNTcxODEiLCI1NDE4NCJdLCJ0IjoiUmVzdGF1cmFudHMgaW4gSmF5YW5hZ2FyIHNlcnZpbmcgQnVmZmV0In19, https://www.zomato.com/bangalore/jalsa-banashankari?context=eyJzZSI6eyJlIjpbIjE4NTMxNzIzIiwiNTAyODMiLCI1ODM0OSIsIjU4MjQzIiw1ODY5NCwiNjEwOTQiLCIxODQxNjMzMSIsIjE4MzU3NjA4IiwiMTg0ODkxMTQiLCIxODU4OTY4NiIsIjE4NzA2MDMwIiwiMTg3OTM4MTkiLCIxODc5MDQ3OCIsIjE4ODIzNDc0IiwiMTg5MjkzMDgiLCIxODY2NTUxMyJdLCJ0IjoiRGVsaXZlcnkgUmVzdGF1cmFudHMgaW4gSmF5YW5hZ2FyIn19, https://www.zomato.com/bangalore/jalsa-banashankari?context=eyJzZSI6eyJlIjpbIjE4NDU3MDEzIiwiNTY2MzUiLCIxODk0OTQ0OCIsIjE4NjA2MDU0Iiw1ODY5NCwiMTg2MzExNTYiLCIxODkzMDA0NiIsIjE4Mjc1MDI1IiwiMTgyNTQ1OTkiLCI1Mjk5NCIsIjU3MTAzIiwiMTg3MjEwNjMiLCIxODY2NzU2NyIsIjE4NDU1NTc1IiwiMTg0MzU2OTIiLCIxODU3NzQzNCJdLCJ0IjoiRGluZS1PdXQgUmVzdGF1cmFudHMgaW4gSmF5YW5hZ2FyIn19]\n",
       "Name: url, dtype: object"
      ]
     },
     "metadata": {},
     "output_type": "display_data"
    }
   ],
   "source": [
    "print(df.loc[0]['url'])\n",
    "print(df.loc[456]['url'])\n",
    "display(df[(df['name']=='Jalsa') & (df['location']=='Banashankari') ].groupby('address')['url'].unique())"
   ]
  },
  {
   "cell_type": "markdown",
   "metadata": {
    "id": "v7RwoNenR75b"
   },
   "source": [
    "It could be that there are multiple branches in the same locality, but we see that the addrsses are the same for each location. Moreover, both these URLs redirect to the same page. So, we tag the restaurants together by name and address to maintain uniqueness for each branch:"
   ]
  },
  {
   "cell_type": "code",
   "execution_count": 159,
   "metadata": {
    "id": "6Z-inZuOR75b"
   },
   "outputs": [
    {
     "name": "stdout",
     "output_type": "stream",
     "text": [
      "    name                                                  address  \\\n",
      "0  Jalsa  942, 21st Main Road, 2nd Stage, Banashankari, Bangalore   \n",
      "\n",
      "       location restaurant_rating  review_rating  \\\n",
      "0  Banashankari  4.1/5             4.0             \n",
      "\n",
      "                                                                                                                                                                                                                                                                                                                                                 review  \\\n",
      "0  A beautiful place to dine inThe interiors take you back to the Mughal era The lightings are just perfectWe went there on the occasion of Christmas and so they had only limited items available But the taste and service was not compromised at allThe only complaint is that the breads could have been betterWould surely like to come here again   \n",
      "\n",
      "                                                             Tag  \n",
      "0  Jalsa-942, 21st Main Road, 2nd Stage, Banashankari, Bangalore  \n"
     ]
    }
   ],
   "source": [
    "rating_df['Tag']=rating_df['name']+'-'+rating_df['address']\n",
    "print(rating_df.head(1))"
   ]
  },
  {
   "cell_type": "code",
   "execution_count": 160,
   "metadata": {},
   "outputs": [],
   "source": [
    "#Checking ratings columns:"
   ]
  },
  {
   "cell_type": "code",
   "execution_count": 161,
   "metadata": {},
   "outputs": [
    {
     "name": "stdout",
     "output_type": "stream",
     "text": [
      "Review Rating :\n",
      " [4.  2.  5.  3.  1.  3.5 1.5 4.5 2.5]\n",
      "Restaurant Rating :\n",
      " ['4.1/5' '3.8/5' '3.7/5' '3.6/5' '4.6/5' '4.0/5' '4.2/5' '3.9/5' '3.1/5'\n",
      " '3.0/5' '3.2/5' '3.3/5' '2.8/5' '4.4/5' '4.3/5' 'NEW' '2.9/5' '3.5/5' nan\n",
      " '2.6/5' '3.8 /5' '3.4/5' '4.5/5' '2.5/5' '2.7/5' '4.7/5' '2.4/5' '2.2/5'\n",
      " '2.3/5' '3.4 /5' '-' '3.6 /5' '4.8/5' '3.9 /5' '4.2 /5' '4.0 /5' '4.1 /5'\n",
      " '3.7 /5' '2.9 /5' '3.3 /5' '2.8 /5' '3.5 /5' '2.7 /5' '3.2 /5' '3.1 /5'\n",
      " '2.6 /5' '4.5 /5' '4.3 /5' '4.4 /5' '4.9/5' '2.1/5' '2.0/5' '1.8/5'\n",
      " '4.6 /5' '4.9 /5' '2.5 /5' '3.0 /5' '4.8 /5' '2.3 /5' '4.7 /5' '2.4 /5'\n",
      " '2.1 /5' '2.2 /5' '2.0 /5' '1.8 /5']\n"
     ]
    }
   ],
   "source": [
    "print(\"Review Rating :\\n\",rating_df['review_rating'].unique())\n",
    "print(\"Restaurant Rating :\\n\",rating_df['restaurant_rating'].unique())"
   ]
  },
  {
   "cell_type": "code",
   "execution_count": 162,
   "metadata": {},
   "outputs": [],
   "source": [
    "#We remove restaurants that havent been reviewed ('NEW'):\n",
    "rating_df.drop((rating_df[rating_df['restaurant_rating']=='NEW']).index, inplace = True)"
   ]
  },
  {
   "cell_type": "code",
   "execution_count": 163,
   "metadata": {},
   "outputs": [
    {
     "name": "stdout",
     "output_type": "stream",
     "text": [
      "['4.1/5' '3.8/5' '3.7/5' '3.6/5' '4.6/5' '4.0/5' '4.2/5' '3.9/5' '3.1/5'\n",
      " '3.0/5' '3.2/5' '3.3/5' '2.8/5' '4.4/5' '4.3/5' '2.9/5' '3.5/5' '2.6/5'\n",
      " '3.8 /5' '3.4/5' '4.5/5' '2.5/5' '2.7/5' '4.7/5' '2.4/5' '2.2/5' '2.3/5'\n",
      " '3.4 /5' '3.6 /5' '4.8/5' '3.9 /5' '4.2 /5' '4.0 /5' '4.1 /5' '3.7 /5'\n",
      " '2.9 /5' '3.3 /5' '2.8 /5' '3.5 /5' '2.7 /5' '3.2 /5' '3.1 /5' '2.6 /5'\n",
      " '4.5 /5' '4.3 /5' '4.4 /5' '4.9/5' '2.1/5' '2.0/5' '1.8/5' '4.6 /5'\n",
      " '4.9 /5' '2.5 /5' '3.0 /5' '4.8 /5' '2.3 /5' '4.7 /5' '2.4 /5' '2.1 /5'\n",
      " '2.2 /5' '2.0 /5' '1.8 /5']\n"
     ]
    }
   ],
   "source": [
    "#We remove restaurants thatdont have a rating('-') or have null values from rating:\n",
    "rating_df.drop((rating_df[rating_df['restaurant_rating']=='-']).index, inplace = True)\n",
    "rating_df.drop((rating_df[rating_df['restaurant_rating'].isnull()]).index, inplace = True)\n",
    "print(rating_df['restaurant_rating'].unique())"
   ]
  },
  {
   "cell_type": "code",
   "execution_count": 164,
   "metadata": {},
   "outputs": [
    {
     "name": "stdout",
     "output_type": "stream",
     "text": [
      "['4.1' '3.8' '3.7' '3.6' '4.6' '4.0' '4.2' '3.9' '3.1' '3.0' '3.2' '3.3'\n",
      " '2.8' '4.4' '4.3' '2.9' '3.5' '2.6' '3.4' '4.5' '2.5' '2.7' '4.7' '2.4'\n",
      " '2.2' '2.3' '4.8' '4.9' '2.1' '2.0' '1.8']\n"
     ]
    }
   ],
   "source": [
    "#Removing '/5' and ' /5'\n",
    "rating_df['restaurant_rating']=rating_df['restaurant_rating'].map(lambda x: x.replace('/5', ''))\n",
    "rating_df['restaurant_rating']=rating_df['restaurant_rating'].map(lambda x: x.replace(' ', ''))\n",
    "print(rating_df['restaurant_rating'].unique())"
   ]
  },
  {
   "cell_type": "code",
   "execution_count": 165,
   "metadata": {},
   "outputs": [
    {
     "name": "stdout",
     "output_type": "stream",
     "text": [
      "Review Rating :\n",
      " [4.  2.  5.  3.  1.  3.5 1.5 4.5 2.5]\n",
      "Restaurant Rating :\n",
      " ['4.1' '3.8' '3.7' '3.6' '4.6' '4.0' '4.2' '3.9' '3.1' '3.0' '3.2' '3.3'\n",
      " '2.8' '4.4' '4.3' '2.9' '3.5' '2.6' '3.4' '4.5' '2.5' '2.7' '4.7' '2.4'\n",
      " '2.2' '2.3' '4.8' '4.9' '2.1' '2.0' '1.8']\n"
     ]
    }
   ],
   "source": [
    "print(\"Review Rating :\\n\",rating_df['review_rating'].unique())\n",
    "print(\"Restaurant Rating :\\n\",rating_df['restaurant_rating'].unique())"
   ]
  },
  {
   "cell_type": "code",
   "execution_count": 166,
   "metadata": {},
   "outputs": [],
   "source": [
    "#No NaN or values to remove here."
   ]
  },
  {
   "cell_type": "code",
   "execution_count": 167,
   "metadata": {},
   "outputs": [
    {
     "name": "stdout",
     "output_type": "stream",
     "text": [
      "name                 object \n",
      "address              object \n",
      "location             object \n",
      "restaurant_rating    object \n",
      "review_rating        float64\n",
      "review               object \n",
      "Tag                  object \n",
      "dtype: object\n",
      "name                 object \n",
      "address              object \n",
      "location             object \n",
      "restaurant_rating    float64\n",
      "review_rating        float64\n",
      "review               object \n",
      "Tag                  object \n",
      "dtype: object\n"
     ]
    }
   ],
   "source": [
    "#We need ratings to be numeric:\n",
    "print(rating_df.dtypes)\n",
    "rating_df['review_rating']=pd.to_numeric(rating_df['review_rating'])\n",
    "rating_df['restaurant_rating']=pd.to_numeric(rating_df['restaurant_rating'])\n",
    "print(rating_df.dtypes)"
   ]
  },
  {
   "cell_type": "code",
   "execution_count": 168,
   "metadata": {},
   "outputs": [
    {
     "name": "stdout",
     "output_type": "stream",
     "text": [
      "Tag\n",
      "Jalsa-25/7, Doddannakundi, Outer Ring Road, Mahadevapura, Marathahalli, Bangalore    [4.2]\n",
      "Jalsa-942, 21st Main Road, 2nd Stage, Banashankari, Bangalore                        [4.1]\n",
      "Name: restaurant_rating, dtype: object\n"
     ]
    }
   ],
   "source": [
    "#Checking unique Restaurant Ratings for each restaurant branch to see if there are erroneous entries:\n",
    "print(rating_df[rating_df['Tag'].str.startswith('Jalsa-', na=False)].groupby('Tag')['restaurant_rating'].unique())"
   ]
  },
  {
   "cell_type": "markdown",
   "metadata": {
    "id": "v7RwoNenR75b"
   },
   "source": [
    "We see that there are only 2 restaurant branches, with 1 unique restaurant rating each. \n",
    "\n",
    "Checking restaurant indexes for first branch."
   ]
  },
  {
   "cell_type": "code",
   "execution_count": 169,
   "metadata": {},
   "outputs": [
    {
     "name": "stdout",
     "output_type": "stream",
     "text": [
      "NormaltestResult(statistic=129382.44642459248, pvalue=0.0)\n",
      "NormaltestResult(statistic=94191.88479967015, pvalue=0.0)\n"
     ]
    },
    {
     "data": {
      "image/png": "[encoded data removed]",
      "text/plain": [
       "<Figure size 432x288 with 1 Axes>"
      ]
     },
     "metadata": {},
     "output_type": "display_data"
    }
   ],
   "source": [
    "#Plotting Restaurant Review-Rating Distribution & Restaurant-Rating Distribution\n",
    "\n",
    "ax = rating_df.plot.hist()\n",
    "#ax = rating_df['review_rating'].plot.hist()\n",
    "\n",
    "print(stats.normaltest(rating_df['review_rating']))\n",
    "print(stats.normaltest(rating_df['restaurant_rating']))\n",
    "\n",
    "\n",
    "#print(\"review_rating :\\n\",rating_df['review_rating'].value_counts())\n",
    "#print(\"restaurant_rating :\\n\",rating_df['restaurant_rating'].value_counts())"
   ]
  },
  {
   "cell_type": "code",
   "execution_count": 170,
   "metadata": {},
   "outputs": [],
   "source": [
    "#Since the p-values is 0 for both tests, our conclusion is that the data are not normally distributed which we see in the histograms above."
   ]
  },
  {
   "cell_type": "code",
   "execution_count": 171,
   "metadata": {},
   "outputs": [
    {
     "data": {
      "text/html": [
       "<div>\n",
       "<style scoped>\n",
       "    .dataframe tbody tr th:only-of-type {\n",
       "        vertical-align: middle;\n",
       "    }\n",
       "\n",
       "    .dataframe tbody tr th {\n",
       "        vertical-align: top;\n",
       "    }\n",
       "\n",
       "    .dataframe thead th {\n",
       "        text-align: right;\n",
       "    }\n",
       "</style>\n",
       "<table border=\"1\" class=\"dataframe\">\n",
       "  <thead>\n",
       "    <tr style=\"text-align: right;\">\n",
       "      <th></th>\n",
       "      <th>restaurant_rating</th>\n",
       "      <th>review_rating</th>\n",
       "    </tr>\n",
       "  </thead>\n",
       "  <tbody>\n",
       "    <tr>\n",
       "      <th>restaurant_rating</th>\n",
       "      <td>1.000000</td>\n",
       "      <td>0.375489</td>\n",
       "    </tr>\n",
       "    <tr>\n",
       "      <th>review_rating</th>\n",
       "      <td>0.375489</td>\n",
       "      <td>1.000000</td>\n",
       "    </tr>\n",
       "  </tbody>\n",
       "</table>\n",
       "</div>"
      ],
      "text/plain": [
       "                   restaurant_rating  review_rating\n",
       "restaurant_rating  1.000000           0.375489     \n",
       "review_rating      0.375489           1.000000     "
      ]
     },
     "execution_count": 171,
     "metadata": {},
     "output_type": "execute_result"
    }
   ],
   "source": [
    "rating_df.corr()"
   ]
  },
  {
   "cell_type": "code",
   "execution_count": null,
   "metadata": {},
   "outputs": [],
   "source": [
    "#The two ratings columns have no correlation as seen above."
   ]
  },
  {
   "cell_type": "code",
   "execution_count": 173,
   "metadata": {
    "id": "z12BxKJlR75n",
    "scrolled": true
   },
   "outputs": [],
   "source": [
    "#!pip install textblob\n",
    "#from textblob import TextBlob\n",
    "#rating_df['polarity'] = rating_df['review'].apply(lambda x: TextBlob(x).sentiment[0])\n",
    "#print(rating_df['review_rating'][0],TextBlob(rating_df['review'][0]).sentiment, rating_df['review'][0])"
   ]
  },
  {
   "cell_type": "code",
   "execution_count": 174,
   "metadata": {
    "id": "nB4AFU33R75q"
   },
   "outputs": [],
   "source": [
    "#for i in range(0,5):\n",
    "#    print(TextBlob(rating_df['review'][i]).sentiment)\n"
   ]
  },
  {
   "cell_type": "code",
   "execution_count": null,
   "metadata": {
    "id": "lz91lRHlR75s"
   },
   "outputs": [],
   "source": []
  }
 ],
 "metadata": {
  "colab": {
   "name": "ZomatoDataWrangling.ipynb",
   "provenance": []
  },
  "kernelspec": {
   "display_name": "Python 3",
   "language": "python",
   "name": "python3"
  },
  "language_info": {
   "codemirror_mode": {
    "name": "ipython",
    "version": 3
   },
   "file_extension": ".py",
   "mimetype": "text/x-python",
   "name": "python",
   "nbconvert_exporter": "python",
   "pygments_lexer": "ipython3",
   "version": "3.7.6"
  }
 },
 "nbformat": 4,
 "nbformat_minor": 1
}
