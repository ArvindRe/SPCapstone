{
 "cells": [
  {
   "cell_type": "markdown",
   "metadata": {},
   "source": [
    "# Import libraries"
   ]
  },
  {
   "cell_type": "code",
   "execution_count": null,
   "metadata": {
    "_cell_guid": "b1076dfc-b9ad-4769-8c92-a6c4dae69d19",
    "_uuid": "8f2839f25d086af736a60e9eeb907d3b93b6e0e5"
   },
   "outputs": [],
   "source": [
    "import pandas as pd \n",
    "import numpy as np \n",
    "from collections import deque \n",
    "import plotly.graph_objs as go\n",
    "import plotly.offline as py\n"
   ]
  },
  {
   "cell_type": "markdown",
   "metadata": {},
   "source": [
    "# Load Data :"
   ]
  },
  {
   "cell_type": "code",
   "execution_count": null,
   "metadata": {
    "_cell_guid": "79c7e3d0-c299-4dcb-8224-4455121ee9b0",
    "_uuid": "d629ff2d2480ee46fbb7e2d37f6b5fab8052498a"
   },
   "outputs": [],
   "source": [
    "# Load TMDB data\n",
    "df1=pd.read_csv('../input/tmdb-movie-metadata/tmdb_5000_credits.csv')\n",
    "df2=pd.read_csv('../input/tmdb-movie-metadata/tmdb_5000_movies.csv')\n",
    "df1.columns = ['id','Name','cast','crew']\n",
    "df2= df2.merge(df1,on='id')\n",
    "print(df1.shape)\n",
    "print(df2.shape)\n",
    "print(df2.head(3))"
   ]
  },
  {
   "cell_type": "markdown",
   "metadata": {},
   "source": []
  },
  {
   "cell_type": "code",
   "execution_count": null,
   "metadata": {},
   "outputs": [],
   "source": [
    "# Load Netflix data for movie titles :\n",
    "movie_titles = pd.read_csv('../input/netflix-prize-data/movie_titles.csv', \n",
    "                           encoding = 'ISO-8859-1', \n",
    "                           header = None, \n",
    "                           names = ['Id', 'Year', 'Name']).set_index('Id')\n",
    "\n",
    "print('Shape Movie-Titles:\\t{}'.format(movie_titles.shape))\n",
    "print(movie_titles.head(5))"
   ]
  },
  {
   "cell_type": "code",
   "execution_count": null,
   "metadata": {},
   "outputs": [],
   "source": [
    "# Load Netflix data for user data (movie ID is indexed):\n",
    "df_raw1 = pd.read_csv('../input/netflix-prize-data/combined_data_1.txt', header=None, names=['User', 'Rating', 'Date'], usecols=[0, 1, 2])\n",
    "#df_raw2 = pd.read_csv('../input/netflix-prize-data/combined_data_2.txt', header=None, names=['User', 'Rating', 'Date'], usecols=[0, 1, 2])\n",
    "#df_raw3 = pd.read_csv('../input/netflix-prize-data/combined_data_3.txt', header=None, names=['User', 'Rating', 'Date'], usecols=[0, 1, 2])\n",
    "#df_raw4 = pd.read_csv('../input/netflix-prize-data/combined_data_4.txt', header=None, names=['User', 'Rating', 'Date'], usecols=[0, 1, 2])\n",
    "\n",
    "df_raw = df_raw1\n",
    "#df_raw = df_raw.append(df_raw2)\n",
    "#df_raw = df_raw.append(df_raw3)\n",
    "#df_raw = df_raw.append(df_raw4)\n",
    "\n",
    "df_raw.index = np.arange(0,len(df_raw))\n",
    "#print(df_raw.index)    #RangeIndex(start=0, stop=24058263, step=1)\n",
    "\n",
    "df_raw['Rating'] = df_raw['Rating'].astype(float)\n",
    "\n",
    "print('Dataset 1 shape: {}'.format(df_raw.shape))\n",
    "print('-Dataset examples-')\n",
    "print(df_raw.iloc[::5000000, :])"
   ]
  },
  {
   "cell_type": "code",
   "execution_count": null,
   "metadata": {},
   "outputs": [],
   "source": [
    "# Load Movies Dataset's movies metadata :\n",
    "movie_metadata = pd.read_csv('../input/the-movies-dataset/movies_metadata.csv', low_memory=False)[['original_title', 'overview', 'vote_count']].set_index('original_title').dropna()\n",
    "# Remove the long tail of rarly rated moves\n",
    "movie_metadata = movie_metadata[movie_metadata['vote_count']>10].drop('vote_count', axis=1)\n",
    "\n",
    "print('Shape Movie-Metadata:\\t{}'.format(movie_metadata.shape))\n",
    "movie_metadata.sample(5)"
   ]
  },
  {
   "cell_type": "markdown",
   "metadata": {},
   "source": [
    "# Preprocessing"
   ]
  },
  {
   "cell_type": "markdown",
   "metadata": {},
   "source": [
    "To add movie ID column to df."
   ]
  },
  {
   "cell_type": "code",
   "execution_count": null,
   "metadata": {},
   "outputs": [],
   "source": [
    "# Find empty rows to slice dataframe for each movie\n",
    "tmp_movies = df_raw[df_raw['Rating'].isna()]['User'].reset_index()\n",
    "movie_indices = [[index, int(movie[:-1])] for index, movie in tmp_movies.values] #movie[:-1] everything except last item in array\n",
    "\n",
    "# Shift the movie_indices by one to get start and endpoints of all movies\n",
    "shifted_movie_indices = deque(movie_indices)\n",
    "shifted_movie_indices.rotate(-1)\n",
    "\n",
    "\n",
    "# Gather all dataframes\n",
    "user_data = []\n",
    "\n",
    "# Iterate over all movies\n",
    "for [df_id_1, movie_id], [df_id_2, next_movie_id] in zip(movie_indices, shifted_movie_indices):\n",
    "    \n",
    "    # Check if it is the last movie in the file\n",
    "    if df_id_1<df_id_2:\n",
    "        tmp_df = df_raw.loc[df_id_1+1:df_id_2-1].copy()\n",
    "    else:\n",
    "        tmp_df = df_raw.loc[df_id_1+1:].copy()\n",
    "        \n",
    "    # Create movie_id column\n",
    "    tmp_df['Movie'] = movie_id\n",
    "    \n",
    "    # Append dataframe to list\n",
    "    user_data.append(tmp_df)\n",
    "\n",
    "# Combine all dataframes\n",
    "df = pd.concat(user_data)\n",
    "del user_data, df_raw, tmp_movies, tmp_df, shifted_movie_indices, movie_indices, df_id_1, movie_id, df_id_2, next_movie_id\n",
    "print('Shape User-Ratings:\\t{}'.format(df.shape))\n",
    "df.sample(5)"
   ]
  },
  {
   "cell_type": "code",
   "execution_count": null,
   "metadata": {},
   "outputs": [],
   "source": [
    "#Extract vote count and vote average      df.rename(index={0: \"x\", 1: \"y\", 2: \"z\"})\n",
    "tmp=pd.DataFrame(df.groupby('Movie').agg({'Rating':['count', 'mean']}))\n",
    "#tmp=tmp.rename(index={0: \"vote_count\",1 :\"vote_average\"})\n",
    "tmp.head()"
   ]
  },
  {
   "cell_type": "code",
   "execution_count": null,
   "metadata": {},
   "outputs": [],
   "source": [
    "#Adding vote count and vote averages\n",
    "df_n=df.merge(tmp,on='Movie')  ####check m\n",
    "#df_n.drop('Rating_y',axis='columns', inplace=True)\n",
    "df_n.columns=['User', 'Rating', 'Date', 'Movie', 'vote_count', 'vote_average']\n",
    "print(df_n.head())\n",
    "print(df_n.shape)"
   ]
  },
  {
   "cell_type": "code",
   "execution_count": null,
   "metadata": {},
   "outputs": [],
   "source": [
    "#Join Netflix movie titles with df_n\n",
    "movie_titles.index.names = ['Movie']\n",
    "df_n=df_n.merge(movie_titles , on='Movie')\n",
    "print(df_n.sample(5))\n",
    "print(df_n.shape)"
   ]
  },
  {
   "cell_type": "code",
   "execution_count": null,
   "metadata": {},
   "outputs": [],
   "source": [
    "#Join with movies metadata dataset\n",
    "movie_metadata.reset_index(inplace=True)\n",
    "movie_metadata.rename(columns={\"original_title\": \"Name\"},inplace=True)\n",
    "\n",
    "df_n=pd.merge(df_n, movie_metadata, on='Name')\n",
    "#df_n.merge(movie_metadata, on=['Name', 'original_title'])\n",
    "print(df_n.sample(5))\n",
    "print(df_n.shape)"
   ]
  },
  {
   "cell_type": "code",
   "execution_count": null,
   "metadata": {},
   "outputs": [],
   "source": [
    "print(df.shape)\n",
    "df_n.shape"
   ]
  },
  {
   "cell_type": "markdown",
   "metadata": {},
   "source": [
    "# Visualization"
   ]
  },
  {
   "cell_type": "code",
   "execution_count": null,
   "metadata": {},
   "outputs": [],
   "source": [
    "# Get data\n",
    "data = movie_titles['Year'].value_counts().sort_index()\n",
    "\n",
    "# Create trace\n",
    "trace = go.Scatter(x = data.index,\n",
    "                   y = data.values,\n",
    "                   marker = dict(color = '#db0000'))\n",
    "# Create layout\n",
    "layout = dict(title = '{} Movies Grouped By Year Of Release'.format(movie_titles.shape[0]),\n",
    "              xaxis = dict(title = 'Release Year'),\n",
    "              yaxis = dict(title = 'Movies'))\n",
    "\n",
    "# Create plot\n",
    "fig = go.Figure(data=[trace], layout=layout)\n",
    "py.iplot(fig)"
   ]
  },
  {
   "cell_type": "code",
   "execution_count": null,
   "metadata": {},
   "outputs": [],
   "source": [
    "# Get data\n",
    "data = df['Rating'].value_counts().sort_index(ascending=False)\n",
    "\n",
    "# Create trace\n",
    "trace = go.Bar(x = data.index,\n",
    "               text = ['{:.1f} %'.format(val) for val in (data.values / df.shape[0] * 100)],\n",
    "               textposition = 'auto',\n",
    "               textfont = dict(color = '#000000'),\n",
    "               y = data.values,\n",
    "               marker = dict(color = '#db0000'))\n",
    "# Create layout\n",
    "layout = dict(title = 'Distribution Of {} Netflix-Ratings'.format(df.shape[0]),\n",
    "              xaxis = dict(title = 'Rating'),\n",
    "              yaxis = dict(title = 'Count'))\n",
    "# Create plot\n",
    "fig = go.Figure(data=[trace], layout=layout)\n",
    "py.iplot(fig)"
   ]
  },
  {
   "cell_type": "code",
   "execution_count": null,
   "metadata": {},
   "outputs": [],
   "source": [
    "# Get data\n",
    "data = df['Date'].value_counts()\n",
    "data.index = pd.to_datetime(data.index)\n",
    "data.sort_index(inplace=True)\n",
    "\n",
    "# Create trace\n",
    "trace = go.Scatter(x = data.index,\n",
    "                   y = data.values,\n",
    "                   marker = dict(color = '#db0000'))\n",
    "# Create layout\n",
    "layout = dict(title = '{} Movie-Ratings Grouped By Day'.format(df.shape[0]),\n",
    "              xaxis = dict(title = 'Date'),\n",
    "              yaxis = dict(title = 'Ratings'))\n",
    "\n",
    "# Create plot\n",
    "fig = go.Figure(data=[trace], layout=layout)\n",
    "py.iplot(fig)"
   ]
  },
  {
   "cell_type": "code",
   "execution_count": null,
   "metadata": {},
   "outputs": [],
   "source": [
    "##### Ratings Per Movie #####\n",
    "# Get data\n",
    "data = df.groupby('Movie')['Rating'].count()#.clip(upper=99999)\n",
    "\n",
    "\n",
    "\n",
    "\n",
    "#import seaborn as sns\n",
    "#sns.set()#_theme(style=\"whitegrid\")\n",
    "#tips = sns.load_dataset(\"tips\")\n",
    "#ax = sns.scatterplot(x=data.values)\n",
    "\n",
    "\n",
    "\n",
    "# Create trace\n",
    "trace = go.Histogram(x = data.values,\n",
    "                     name = 'Ratings',\n",
    "                     xbins = dict(start = 0,\n",
    "                                  end = 1000000,\n",
    "                                  size = 100),\n",
    "                    marker = dict(color = '#db0000'))\n",
    "# Create layout\n",
    "layout = go.Layout(title = 'Distribution Of Ratings Per Movie #(Clipped at 99999)',\n",
    "                   xaxis = dict(title = 'Ratings Per Movie'),\n",
    "                   yaxis = dict(title = 'Count'),\n",
    "                   bargap = 0.2)\n",
    "\n",
    "# Create plot\n",
    "#fig = go.Figure(data=[trace], layout=layout)\n",
    "#py.iplot(fig)\n",
    "\n",
    "\n",
    "\n",
    "##### Ratings Per User #####\n",
    "# Get data\n",
    "data = df.groupby('User')['Rating'].count().clip(upper=1999)\n",
    "\n",
    "# Create trace\n",
    "trace = go.Histogram(x = data.values,\n",
    "                     name = 'Ratings',\n",
    "                     xbins = dict(start = 0,\n",
    "                                  end = 2000,\n",
    "                                  size = 2),\n",
    "                     marker = dict(color = '#db0000'))\n",
    "# Create layout\n",
    "layout = go.Layout(title = 'Distribution Of Ratings Per User (Clipped at 1999)',\n",
    "                   xaxis = dict(title = 'Ratings Per User'),\n",
    "                   yaxis = dict(title = 'Count'),\n",
    "                   bargap = 0.2)\n",
    "\n",
    "# Create plot\n",
    "fig = go.Figure(data=[trace], layout=layout)\n",
    "py.iplot(fig)"
   ]
  },
  {
   "cell_type": "markdown",
   "metadata": {},
   "source": [
    "# Weighted Rating"
   ]
  },
  {
   "cell_type": "markdown",
   "metadata": {},
   "source": [
    "**Demographic filtering** for users that are new or we have less data on.\n"
   ]
  },
  {
   "cell_type": "markdown",
   "metadata": {},
   "source": [
    "We can use the average ratings of the movie as the score but using this won't be fair enough since a movie with 8.9 average rating and only 3 votes cannot be considered better than the movie with 7.8 as as average rating but 40 votes. So, I'll be using IMDB's weighted rating (wr) which is given as :-\n",
    "\n",
    " ![](https://image.ibb.co/jYWZp9/wr.png)\n",
    "\n",
    "where,\n",
    "* v is the number of votes for the movie;\n",
    "* m is the minimum votes required to be listed in the chart;\n",
    "* R is the average rating of the movie; And\n",
    "* C is the mean vote across the whole report\n",
    "\n",
    "We already have v(**vote_count**) and R (**vote_average**) and C can be calculated as "
   ]
  },
  {
   "cell_type": "code",
   "execution_count": null,
   "metadata": {},
   "outputs": [],
   "source": [
    "# Calculation based on the IMDB formula :\n",
    "#weighted rating= (v/(v+m) * R) + (m/(m+v) * C)\n",
    "\n",
    "#C=df['Rating'].mean()   #3.5996343025565563\n",
    "#C\n",
    "\n",
    "C=tmp.iloc[:,1].mean()\n",
    "C"
   ]
  },
  {
   "cell_type": "code",
   "execution_count": null,
   "metadata": {},
   "outputs": [],
   "source": [
    "#m=df.groupby('Movie')['Rating'].count()\n",
    "#m=m.quantile(0.9)\n",
    "#m\n",
    "m=tmp.iloc[:, 0].quantile(0.9) \n",
    "m"
   ]
  },
  {
   "cell_type": "code",
   "execution_count": null,
   "metadata": {},
   "outputs": [],
   "source": [
    "# Calculation based on the IMDB formula\n",
    "v = tmp.iloc[:, 0]\n",
    "R = tmp.iloc[:, 1]\n",
    "tmp['score']=((v/(v+m) * R) + (m/(m+v) * C))\n",
    "tmp=tmp.sort_values('score', ascending=False)\n",
    "tmp.head()"
   ]
  },
  {
   "cell_type": "code",
   "execution_count": null,
   "metadata": {},
   "outputs": [],
   "source": [
    "tmp=tmp.merge(movie_titles , on='Movie')\n",
    "tmp.head()"
   ]
  },
  {
   "cell_type": "markdown",
   "metadata": {},
   "source": [
    "# Content based filtering"
   ]
  },
  {
   "cell_type": "markdown",
   "metadata": {},
   "source": [
    "**Content based filtering** :  overview, cast, crew, keyword, tagline etc is used to find its similarity with other movies."
   ]
  },
  {
   "cell_type": "code",
   "execution_count": null,
   "metadata": {},
   "outputs": [],
   "source": [
    "movie_metadata.head(5)"
   ]
  },
  {
   "cell_type": "code",
   "execution_count": null,
   "metadata": {},
   "outputs": [],
   "source": [
    "#Import TfIdfVectorizer from scikit-learn\n",
    "from sklearn.feature_extraction.text import TfidfVectorizer\n",
    "\n",
    "#Define a TF-IDF Vectorizer Object. Remove all english stop words such as 'the', 'a'\n",
    "tfidf = TfidfVectorizer(stop_words='english')\n",
    "\n",
    "#Replace NaN with an empty string\n",
    "movie_metadata['overview'] = movie_metadata['overview'].fillna('')\n",
    "\n",
    "#Construct the required TF-IDF matrix by fitting and transforming the data\n",
    "tfidf_matrix = tfidf.fit_transform(movie_metadata['overview'])\n",
    "\n",
    "#Output the shape of tfidf_matrix\n",
    "tfidf_matrix.shape"
   ]
  },
  {
   "cell_type": "code",
   "execution_count": null,
   "metadata": {},
   "outputs": [],
   "source": [
    "tfidf_matrix"
   ]
  },
  {
   "cell_type": "code",
   "execution_count": null,
   "metadata": {},
   "outputs": [],
   "source": [
    "# Import linear_kernel\n",
    "from sklearn.metrics.pairwise import linear_kernel\n",
    "\n",
    "# Compute the cosine similarity matrix\n",
    "cosine_sim = linear_kernel(tfidf_matrix, tfidf_matrix)"
   ]
  },
  {
   "cell_type": "code",
   "execution_count": null,
   "metadata": {},
   "outputs": [],
   "source": [
    "#Construct a reverse map of indices and movie titles\n",
    "indices = pd.Series(movie_metadata.index, index=movie_metadata['Name']).drop_duplicates()"
   ]
  },
  {
   "cell_type": "code",
   "execution_count": null,
   "metadata": {},
   "outputs": [],
   "source": [
    "indices"
   ]
  },
  {
   "cell_type": "code",
   "execution_count": null,
   "metadata": {},
   "outputs": [],
   "source": [
    "# Function that takes in movie title as input and outputs most similar movies\n",
    "def get_recommendations(title, cosine_sim=cosine_sim):\n",
    "    # Get the index of the movie that matches the title\n",
    "    idx = indices[title]\n",
    "\n",
    "    # Get the pairwsie similarity scores of all movies with that movie\n",
    "    sim_scores = list(enumerate(cosine_sim[idx]))\n",
    "\n",
    "    # Sort the movies based on the similarity scores\n",
    "    sim_scores = sorted(sim_scores, key=lambda x: x[1], reverse=True)\n",
    "\n",
    "    # Get the scores of the 10 most similar movies\n",
    "    sim_scores = sim_scores[1:11]\n",
    "\n",
    "    # Get the movie indices\n",
    "    movie_indices = [i[0] for i in sim_scores]\n",
    "\n",
    "    # Return the top 10 most similar movies\n",
    "    return movie_metadata['Name'].iloc[movie_indices]"
   ]
  },
  {
   "cell_type": "code",
   "execution_count": null,
   "metadata": {},
   "outputs": [],
   "source": [
    "idx = indices['The Avengers']\n",
    "idx"
   ]
  },
  {
   "cell_type": "code",
   "execution_count": null,
   "metadata": {},
   "outputs": [],
   "source": [
    "    idx = indices['The Avengers']\n",
    "\n",
    "    # Get the pairwsie similarity scores of all movies with that movie\n",
    "    sim_scores = list(enumerate(cosine_sim[idx]))\n",
    "    print(cosine_sim[idx])\n",
    "    #print((sim_scores[1:11]))\n",
    "    # Sort the movies based on the similarity scores\n",
    "    #sim_scores = sorted(sim_scores, key=lambda x: x[1], reverse=True)\n",
    "    #print((sim_scores[1:11]))\n",
    "    # Get the scores of the 10 most similar movies\n",
    "    #sim_scores = sim_scores[1:11]\n",
    "\n",
    "    # Get the movie indices\n",
    "    #movie_indices = [i[0] for i in sim_scores]\n",
    "    #print(movie_metadata['Name'].iloc[movie_indices],sim_scores)"
   ]
  },
  {
   "cell_type": "code",
   "execution_count": null,
   "metadata": {},
   "outputs": [],
   "source": [
    "get_recommendations('The Dark Knight')"
   ]
  },
  {
   "cell_type": "code",
   "execution_count": null,
   "metadata": {},
   "outputs": [],
   "source": [
    "get_recommendations('The Avengers')"
   ]
  }
 ],
 "metadata": {
  "kernelspec": {
   "display_name": "Python 3",
   "language": "python",
   "name": "python3"
  },
  "language_info": {
   "codemirror_mode": {
    "name": "ipython",
    "version": 3
   },
   "file_extension": ".py",
   "mimetype": "text/x-python",
   "name": "python",
   "nbconvert_exporter": "python",
   "pygments_lexer": "ipython3",
   "version": "3.7.6"
  }
 },
 "nbformat": 4,
 "nbformat_minor": 4
}
