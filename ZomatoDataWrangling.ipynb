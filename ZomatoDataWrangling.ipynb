{
 "cells": [
  {
   "cell_type": "code",
   "execution_count": 27,
   "metadata": {},
   "outputs": [],
   "source": [
    "import matplotlib.pyplot as plt\n",
    "plt.style.use('ggplot')\n",
    "from wordcloud import WordCloud\n",
    "from tqdm import tqdm\n",
    "#from geopy.geocoders import Nominatim\n",
    "#from folium.plugins import HeatMap\n",
    "#import folium\n",
    "#from tqdm import tqdm\n",
    "import re\n",
    "#from keras.preprocessing.text import Tokenizer\n",
    "#from keras.preprocessing.sequence import pad_sequences\n",
    "#from keras.models import Sequential\n",
    "#from keras.layers import Dense, Embedding, LSTM, SpatialDropout1D\n",
    "#from sklearn.model_selection import train_test_split\n",
    "#from nltk import word_tokenize\n",
    "#from sklearn.feature_extraction.text import TfidfVectorizer\n",
    "#import gensim\n",
    "#from collections import Counter\n",
    "#from nltk.corpus import stopwords\n",
    "#from nltk.stem import WordNetLemmatizer\n",
    "#import matplotlib.colors as mcolors\n",
    "#from sklearn.manifold import TSNE\n",
    "#from gensim.models import word2vec\n",
    "#import nltk\n"
   ]
  },
  {
   "cell_type": "code",
   "execution_count": 28,
   "metadata": {},
   "outputs": [
    {
     "name": "stdout",
     "output_type": "stream",
     "text": [
      "['Music', '.condarc', 'ZomatoDataWrangling.ipynb', 'Untitled1.ipynb', '.DS_Store', '.CFUserTextEncoding', 'Untitled.ipynb', 'Pictures', 'Untitled2.ipynb', '.ipython', 'zomato.csv', 'Desktop', 'Library', '.matplotlib', 'ZomatoAPI-Copy1.ipynb', '.android', '.bash_sessions', 'Public', '.anaconda', 'Movies', 'opt', '.Trash', '.ipynb_checkpoints', '.jupyter', 'Documents', '.bash_profile', 'Downloads', '.bash_history', '.conda']\n"
     ]
    }
   ],
   "source": [
    "import numpy as np \n",
    "import pandas as pd\n",
    "import os\n",
    "import seaborn as sns\n",
    "import os\n",
    "cwd = os.getcwd()\n",
    "print(os.listdir(cwd))"
   ]
  },
  {
   "cell_type": "code",
   "execution_count": 29,
   "metadata": {},
   "outputs": [
    {
     "name": "stdout",
     "output_type": "stream",
     "text": [
      "                                                 url  \\\n",
      "0  https://www.zomato.com/bangalore/jalsa-banasha...   \n",
      "1  https://www.zomato.com/bangalore/spice-elephan...   \n",
      "2  https://www.zomato.com/SanchurroBangalore?cont...   \n",
      "3  https://www.zomato.com/bangalore/addhuri-udupi...   \n",
      "4  https://www.zomato.com/bangalore/grand-village...   \n",
      "\n",
      "                                             address                   name  \\\n",
      "0  942, 21st Main Road, 2nd Stage, Banashankari, ...                  Jalsa   \n",
      "1  2nd Floor, 80 Feet Road, Near Big Bazaar, 6th ...         Spice Elephant   \n",
      "2  1112, Next to KIMS Medical College, 17th Cross...        San Churro Cafe   \n",
      "3  1st Floor, Annakuteera, 3rd Stage, Banashankar...  Addhuri Udupi Bhojana   \n",
      "4  10, 3rd Floor, Lakshmi Associates, Gandhi Baza...          Grand Village   \n",
      "\n",
      "  online_order book_table   rate  votes                             phone  \\\n",
      "0          Yes        Yes  4.1/5    775    080 42297555\\r\\n+91 9743772233   \n",
      "1          Yes         No  4.1/5    787                      080 41714161   \n",
      "2          Yes         No  3.8/5    918                    +91 9663487993   \n",
      "3           No         No  3.7/5     88                    +91 9620009302   \n",
      "4           No         No  3.8/5    166  +91 8026612447\\r\\n+91 9901210005   \n",
      "\n",
      "       location            rest_type  \\\n",
      "0  Banashankari        Casual Dining   \n",
      "1  Banashankari        Casual Dining   \n",
      "2  Banashankari  Cafe, Casual Dining   \n",
      "3  Banashankari          Quick Bites   \n",
      "4  Basavanagudi        Casual Dining   \n",
      "\n",
      "                                          dish_liked  \\\n",
      "0  Pasta, Lunch Buffet, Masala Papad, Paneer Laja...   \n",
      "1  Momos, Lunch Buffet, Chocolate Nirvana, Thai G...   \n",
      "2  Churros, Cannelloni, Minestrone Soup, Hot Choc...   \n",
      "3                                        Masala Dosa   \n",
      "4                                Panipuri, Gol Gappe   \n",
      "\n",
      "                         cuisines approx_cost(for two people)  \\\n",
      "0  North Indian, Mughlai, Chinese                         800   \n",
      "1     Chinese, North Indian, Thai                         800   \n",
      "2          Cafe, Mexican, Italian                         800   \n",
      "3      South Indian, North Indian                         300   \n",
      "4        North Indian, Rajasthani                         600   \n",
      "\n",
      "                                        reviews_list menu_item  \\\n",
      "0  [('Rated 4.0', 'RATED\\n  A beautiful place to ...        []   \n",
      "1  [('Rated 4.0', 'RATED\\n  Had been here for din...        []   \n",
      "2  [('Rated 3.0', \"RATED\\n  Ambience is not that ...        []   \n",
      "3  [('Rated 4.0', \"RATED\\n  Great food and proper...        []   \n",
      "4  [('Rated 4.0', 'RATED\\n  Very good restaurant ...        []   \n",
      "\n",
      "  listed_in(type) listed_in(city)  \n",
      "0          Buffet    Banashankari  \n",
      "1          Buffet    Banashankari  \n",
      "2          Buffet    Banashankari  \n",
      "3          Buffet    Banashankari  \n",
      "4          Buffet    Banashankari  \n"
     ]
    }
   ],
   "source": [
    "df=pd.read_csv(\"zomato.csv\")\n",
    "print(df.head())"
   ]
  },
  {
   "cell_type": "code",
   "execution_count": 30,
   "metadata": {},
   "outputs": [
    {
     "name": "stderr",
     "output_type": "stream",
     "text": [
      "51717it [00:20, 2497.02it/s]\n"
     ]
    },
    {
     "name": "stdout",
     "output_type": "stream",
     "text": [
      "          name      location  rating  \\\n",
      "1022164  Jalsa  Marathahalli     5.0   \n",
      "1022165  Jalsa  Marathahalli     4.0   \n",
      "1022166  Jalsa  Marathahalli     4.0   \n",
      "1022167  Jalsa  Marathahalli     4.0   \n",
      "1022168  Jalsa  Marathahalli     5.0   \n",
      "\n",
      "                                                    review  \n",
      "1022164  Yummy and lip smacking chicken platter :-)\\nTh...  \n",
      "1022165  We went for a late dinner at Jalsa, place was ...  \n",
      "1022166  Been here on a Sunday afternoon with my folks....  \n",
      "1022167  This is one of the first place which I have co...  \n",
      "1022168  Nice place for lunch ÃÃÃÃÃÃÃÃÂ°...  \n"
     ]
    }
   ],
   "source": [
    "#Extract reviews and ratings into a DF\n",
    "all_ratings = []\n",
    "for name,location,ratings in tqdm(zip(df['name'],df['location'],df['reviews_list'])):\n",
    "    ratings = eval(ratings)\n",
    "    for score, doc in (ratings):\n",
    "        if score:\n",
    "            score = score.strip(\"Rated\").strip()\n",
    "            doc = doc.strip('RATED').strip()\n",
    "            score = float(score)\n",
    "            all_ratings.append([name,location,score, doc])\n",
    "rating_df=pd.DataFrame(all_ratings,columns=['name','location','rating','review'])\n",
    "print(rating_df[rating_df['name']=='Jalsa'].tail())"
   ]
  },
  {
   "cell_type": "code",
   "execution_count": 31,
   "metadata": {},
   "outputs": [
    {
     "name": "stdout",
     "output_type": "stream",
     "text": [
      "Nice place for lunch ÃÃÃÃÃÃÃÃÂ°ÃÃÃÃÃÃÃÃÃÃÃÃÃÃÃÃÃÃÃÃÃÃÃÃÂ´ with office team. The ambiance was really good. ItÃÃÃÃÃÃÃÃÂ¢ÃÃÃÃÃÃÃÃÃÃÃÃÃÃÃÃs a well balanced combination of royals ÃÃÃÃÃÃÃÃÂ°ÃÃÃÃÃÃÃÃÃÃÃÃÃÃÃÃÃÃÃÃÃÃÃÃ and feeling like we dine in our own kingdom.\n",
      "\n",
      "Food was good.\n",
      "Service was pretty nice. Overall experience was good.\n",
      "\n",
      "\n",
      "subirmajumder85.wixsite.com\n"
     ]
    }
   ],
   "source": [
    "#Taking a closer look at the last review:\n",
    "print(rating_df.loc[1022168]['review'])"
   ]
  },
  {
   "cell_type": "code",
   "execution_count": 32,
   "metadata": {},
   "outputs": [
    {
     "name": "stdout",
     "output_type": "stream",
     "text": [
      "Nice place for lunch  with office team The ambiance was really good Its a well balanced combination of royals  and feeling like we dine in our own kingdom\n",
      "\n",
      "Food was good\n",
      "Service was pretty nice Overall experience was good\n",
      "\n",
      "\n",
      "subirmajumder85wixsitecom\n"
     ]
    }
   ],
   "source": [
    "#We notice junk characters above, removing anything that is not a letter or a number:\n",
    "rating_df['review']=rating_df['review'].apply(lambda x : re.sub('[^a-zA-Z0-9\\s]',\"\",x))\n",
    "print(rating_df.loc[1022168]['review'])\n",
    "#retains dots and special characters?"
   ]
  },
  {
   "cell_type": "code",
   "execution_count": 33,
   "metadata": {
    "scrolled": true
   },
   "outputs": [
    {
     "name": "stdout",
     "output_type": "stream",
     "text": [
      "[      0       1       2       3       4       5       6       7       8\n",
      "       9      10      11    9027    9028    9029    9030    9031    9032\n",
      "    9033    9034    9035    9036    9037   10866   10867   10868   10869\n",
      "   10870   10871   10872   10873   10874   10875   10876   46108   46109\n",
      "   46110   46111   46112   46113   46114   46115   46116   46117   55999\n",
      "   56000   56001   56002   56003   56004   56005   56006   56007   56008\n",
      "   62938   62939   62940   62941   62942   62943   62944   62945   62946\n",
      "   62947  157372  157373  157374  157375  157376  157377  157378  157379\n",
      "  157380  157381  157382  157383  157384  157385  157386  157387  157388\n",
      "  157389  157390  157391  157392  157393  157394  157395  157396  157397\n",
      "  157398  157399  157400  157401  157402  157403  157404  157405  157406\n",
      "  157407  157408  157409  157410  157411  157412  157413  157414  157415\n",
      "  157416  157417  157418  157419  157420  427965  427966  427967  427968\n",
      "  427969  427970  427971  427972  457500  457501  457502  457503  457504\n",
      "  457505  457506  457507  471991  471992  471993  471994  471995  471996\n",
      "  471997  471998  471999 1022104 1022105 1022106 1022107 1022108 1022109\n",
      " 1022110 1022111 1022112 1022113 1022114 1022115 1022116 1022117 1022118\n",
      " 1022119 1022120 1022121 1022122 1022123 1022124 1022125 1022126 1022127\n",
      " 1022128 1022129 1022130 1022131 1022132 1022133 1022134 1022135 1022136\n",
      " 1022137 1022138 1022139 1022140 1022141 1022142 1022143 1022144 1022145\n",
      " 1022146 1022147 1022148 1022149 1022150 1022151 1022152 1022153 1022154\n",
      " 1022155 1022156 1022157 1022158 1022159 1022160 1022161 1022162 1022163\n",
      " 1022164 1022165 1022166 1022167 1022168]\n"
     ]
    }
   ],
   "source": [
    "print(rating_df[rating_df['name']=='Jalsa'].index.values)"
   ]
  },
  {
   "cell_type": "raw",
   "metadata": {},
   "source": [
    "The index numbers above range from 0-11 and then abruptly jumps to 9027. This indicates that there are multiple entries in the dataset for 'Jalsa', which in our case could map to different chains of the restaurant across multiple locations."
   ]
  },
  {
   "cell_type": "code",
   "execution_count": 34,
   "metadata": {},
   "outputs": [
    {
     "name": "stdout",
     "output_type": "stream",
     "text": [
      "           location                                            address\n",
      "0      Banashankari  942, 21st Main Road, 2nd Stage, Banashankari, ...\n",
      "456    Banashankari  942, 21st Main Road, 2nd Stage, Banashankari, ...\n",
      "559    Banashankari  942, 21st Main Road, 2nd Stage, Banashankari, ...\n",
      "2488   Banashankari  942, 21st Main Road, 2nd Stage, Banashankari, ...\n",
      "2966   Banashankari  942, 21st Main Road, 2nd Stage, Banashankari, ...\n",
      "3462   Banashankari  942, 21st Main Road, 2nd Stage, Banashankari, ...\n",
      "7607   Marathahalli  25/7, Doddannakundi, Outer Ring Road, Mahadeva...\n",
      "19401  Banashankari  942, 21st Main Road, 2nd Stage, Banashankari, ...\n",
      "20399  Banashankari  942, 21st Main Road, 2nd Stage, Banashankari, ...\n",
      "21302  Banashankari  942, 21st Main Road, 2nd Stage, Banashankari, ...\n",
      "41364  Marathahalli  25/7, Doddannakundi, Outer Ring Road, Mahadeva...\n"
     ]
    }
   ],
   "source": [
    "#Checking original dataset\n",
    "print(df[df['name']=='Jalsa'][['location','address']])"
   ]
  },
  {
   "cell_type": "raw",
   "metadata": {},
   "source": [
    "There are 2 unique addresses with multiple entries in the dataset."
   ]
  },
  {
   "cell_type": "code",
   "execution_count": 35,
   "metadata": {},
   "outputs": [
    {
     "name": "stdout",
     "output_type": "stream",
     "text": [
      "https://www.zomato.com/bangalore/jalsa-banashankari?context=eyJzZSI6eyJlIjpbNTg2OTQsIjE4Mzc1NDc0IiwiNTkwOTAiLCIxODM4Mjk0NCIsIjE4MjI0Njc2IiwiNTkyODkiLCIxODM3MzM4NiJdLCJ0IjoiUmVzdGF1cmFudHMgaW4gQmFuYXNoYW5rYXJpIHNlcnZpbmcgQnVmZmV0In19\n",
      "https://www.zomato.com/bangalore/jalsa-banashankari?context=eyJzZSI6eyJlIjpbIjE4ODkwOTQwIiwiMTg4ODYyNzgiLCIxODg4NzM5MCIsIjE4OTAwNDI2Iiw1ODY5NCwiNTE4MTUiLCIxODcyOTM5MiIsIjE4OTQ2MjE0IiwiMTg3MTYwNjEiLCIxODYxNDQ3NiIsIjE4NzkzMDEwIiwiMTg5MjI5MTMiLCI1NjU5MCIsIjYwMjI0IiwiMTg2MzgzMzAiLCIxODg3NDI5MiIsIjE4NjM1MTMzIiwiNTQ4MDgiLCIxODUxMTYzNSIsIjE4Njk0OTU0IiwiMTg4ODE3NjYiLCIxODQzOTY3MCIsIjU5MDkwIiwiNTk4NTAiXSwidCI6IkRlbGl2ZXJ5IFJlc3RhdXJhbnRzIGluIEJhbmFzaGFua2FyaSJ9fQ==\n"
     ]
    }
   ],
   "source": [
    "print(df.loc[0]['url'])\n",
    "print(df.loc[456]['url'])"
   ]
  },
  {
   "cell_type": "raw",
   "metadata": {},
   "source": [
    "Moreover, both these URLs redirect to the same page. "
   ]
  },
  {
   "cell_type": "code",
   "execution_count": 36,
   "metadata": {},
   "outputs": [
    {
     "name": "stdout",
     "output_type": "stream",
     "text": [
      "    name      location  rating  \\\n",
      "0  Jalsa  Banashankari     4.0   \n",
      "1  Jalsa  Banashankari     4.0   \n",
      "2  Jalsa  Banashankari     2.0   \n",
      "3  Jalsa  Banashankari     4.0   \n",
      "4  Jalsa  Banashankari     5.0   \n",
      "\n",
      "                                              review                 Tag  \n",
      "0  A beautiful place to dine inThe interiors take...  Jalsa-Banashankari  \n",
      "1  I was here for dinner with my family on a week...  Jalsa-Banashankari  \n",
      "2  Its a restaurant near to Banashankari BDA Me a...  Jalsa-Banashankari  \n",
      "3  We went here on a weekend and one of us had th...  Jalsa-Banashankari  \n",
      "4  The best thing about the place is its ambiance...  Jalsa-Banashankari  \n"
     ]
    }
   ],
   "source": [
    "#Tagging the restaurants together by name and location :\n",
    "rating_df['Tag']=rating_df['name']+'-'+rating_df['location']\n",
    "print(rating_df.head())"
   ]
  },
  {
   "cell_type": "code",
   "execution_count": 37,
   "metadata": {},
   "outputs": [
    {
     "name": "stdout",
     "output_type": "stream",
     "text": [
      "         rating                                             review  \\\n",
      "0           4.0  A beautiful place to dine inThe interiors take...   \n",
      "1           4.0  I was here for dinner with my family on a week...   \n",
      "2           2.0  Its a restaurant near to Banashankari BDA Me a...   \n",
      "3           4.0  We went here on a weekend and one of us had th...   \n",
      "4           5.0  The best thing about the place is its ambiance...   \n",
      "...         ...                                                ...   \n",
      "1022164     5.0  Yummy and lip smacking chicken platter \\nTheir...   \n",
      "1022165     4.0  We went for a late dinner at Jalsa place was l...   \n",
      "1022166     4.0  Been here on a Sunday afternoon with my folks ...   \n",
      "1022167     4.0  This is one of the first place which I have co...   \n",
      "1022168     5.0  Nice place for lunch  with office team The amb...   \n",
      "\n",
      "                        Tag  \n",
      "0        Jalsa-Banashankari  \n",
      "1        Jalsa-Banashankari  \n",
      "2        Jalsa-Banashankari  \n",
      "3        Jalsa-Banashankari  \n",
      "4        Jalsa-Banashankari  \n",
      "...                     ...  \n",
      "1022164  Jalsa-Marathahalli  \n",
      "1022165  Jalsa-Marathahalli  \n",
      "1022166  Jalsa-Marathahalli  \n",
      "1022167  Jalsa-Marathahalli  \n",
      "1022168  Jalsa-Marathahalli  \n",
      "\n",
      "[203 rows x 3 columns]\n"
     ]
    }
   ],
   "source": [
    "rating_df.drop(['name','location'],axis=1, inplace=True)\n",
    "print(rating_df[rating_df['Tag'].str.startswith('Jalsa-', na=False)])"
   ]
  },
  {
   "cell_type": "code",
   "execution_count": 38,
   "metadata": {
    "scrolled": true
   },
   "outputs": [
    {
     "data": {
      "text/plain": [
       "Text(0, 0.5, 'Count')"
      ]
     },
     "execution_count": 38,
     "metadata": {},
     "output_type": "execute_result"
    },
    {
     "data": {
      "image/png": "[encoded data removed]",
      "text/plain": [
       "<Figure size 504x432 with 1 Axes>"
      ]
     },
     "metadata": {},
     "output_type": "display_data"
    }
   ],
   "source": [
    "#Plotting Restaurant Rating Distribution\n",
    "\n",
    "plt.figure(figsize=(7,6))\n",
    "rating=rating_df['rating'].value_counts()\n",
    "sns.barplot(x=rating.index,y=rating)\n",
    "plt.xlabel(\"Ratings\")\n",
    "plt.ylabel('Count')\n"
   ]
  },
  {
   "cell_type": "code",
   "execution_count": 39,
   "metadata": {},
   "outputs": [
    {
     "name": "stdout",
     "output_type": "stream",
     "text": [
      "   rating                                             review  \\\n",
      "0     4.0  A beautiful place to dine inThe interiors take...   \n",
      "1     4.0  I was here for dinner with my family on a week...   \n",
      "2     2.0  Its a restaurant near to Banashankari BDA Me a...   \n",
      "3     4.0  We went here on a weekend and one of us had th...   \n",
      "4     5.0  The best thing about the place is its ambiance...   \n",
      "\n",
      "                  Tag  \n",
      "0  Jalsa-Banashankari  \n",
      "1  Jalsa-Banashankari  \n",
      "2  Jalsa-Banashankari  \n",
      "3  Jalsa-Banashankari  \n",
      "4  Jalsa-Banashankari  \n"
     ]
    }
   ],
   "source": [
    "print((rating_df.head()))\n"
   ]
  },
  {
   "cell_type": "code",
   "execution_count": 40,
   "metadata": {},
   "outputs": [
    {
     "name": "stdout",
     "output_type": "stream",
     "text": [
      "4.0 Sentiment(polarity=0.17232142857142857, subjectivity=0.5789682539682539) A beautiful place to dine inThe interiors take you back to the Mughal era The lightings are just perfectWe went there on the occasion of Christmas and so they had only limited items available But the taste and service was not compromised at allThe only complaint is that the breads could have been betterWould surely like to come here again\n"
     ]
    }
   ],
   "source": [
    "from textblob import TextBlob\n",
    "#rating_df['polarity'] = rating_df['review'].apply(lambda x: TextBlob(x).sentiment[0])\n",
    "print(rating_df['rating'][0],TextBlob(rating_df['review'][0]).sentiment, rating_df['review'][0])"
   ]
  },
  {
   "cell_type": "code",
   "execution_count": 41,
   "metadata": {},
   "outputs": [
    {
     "name": "stdout",
     "output_type": "stream",
     "text": [
      "Sentiment(polarity=0.17232142857142857, subjectivity=0.5789682539682539)\n",
      "Sentiment(polarity=0.5, subjectivity=0.5333333333333334)\n",
      "Sentiment(polarity=0.1125, subjectivity=0.5625)\n",
      "Sentiment(polarity=0.6416666666666667, subjectivity=0.6555555555555556)\n",
      "Sentiment(polarity=0.485, subjectivity=0.3725)\n"
     ]
    }
   ],
   "source": [
    "for i in range(0,5):\n",
    "    print(TextBlob(rating_df['review'][i]).sentiment)\n"
   ]
  },
  {
   "cell_type": "code",
   "execution_count": null,
   "metadata": {},
   "outputs": [],
   "source": []
  }
 ],
 "metadata": {
  "kernelspec": {
   "display_name": "Python 3",
   "language": "python",
   "name": "python3"
  },
  "language_info": {
   "codemirror_mode": {
    "name": "ipython",
    "version": 3
   },
   "file_extension": ".py",
   "mimetype": "text/x-python",
   "name": "python",
   "nbconvert_exporter": "python",
   "pygments_lexer": "ipython3",
   "version": "3.7.6"
  }
 },
 "nbformat": 4,
 "nbformat_minor": 4
}
